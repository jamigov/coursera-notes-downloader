{
 "metadata": {
  "language_info": {
   "codemirror_mode": {
    "name": "ipython",
    "version": 3
   },
   "file_extension": ".py",
   "mimetype": "text/x-python",
   "name": "python",
   "nbconvert_exporter": "python",
   "pygments_lexer": "ipython3",
   "version": "3.8.5-final"
  },
  "orig_nbformat": 2,
  "kernelspec": {
   "name": "python38564bit5d4c224978714637ad84b44c8c925f16",
   "display_name": "Python 3.8.5 64-bit",
   "language": "python"
  }
 },
 "nbformat": 4,
 "nbformat_minor": 2,
 "cells": [
  {
   "cell_type": "code",
   "execution_count": 7,
   "metadata": {},
   "outputs": [],
   "source": [
    "#code developed by kuzan\n",
    "#email: jamigovfecrd@gmail.com\n",
    "\n",
    "import pandas as pd\n",
    "\n",
    "#inserting manually the strings from de .txt document\n",
    "videoName = '<div class=\"video-title\" aria-label=\"Item Name\">'\n",
    "videoDuration = '<div class=\"video-details\" aria-label=\"Duration\">'\n",
    "videoTranscript = '<div class=\"video-section-text\" aria-label=\"Transcript\">'\n",
    "videoUserNote = '<div class=\"video-note-text-box video-note-text\" aria-label=\"User Note\">'\n",
    "\n",
    "file = open('./Applied Machine Learning in Python - Notes | Coursera.txt')\n",
    "\n",
    "fileStr = file.read()\n",
    "\n",
    "#removing the '\\n' from the file\n",
    "fileStr = fileStr.replace('\\n', '')\n"
   ]
  },
  {
   "cell_type": "code",
   "execution_count": 8,
   "metadata": {
    "tags": []
   },
   "outputs": [
    {
     "output_type": "stream",
     "name": "stdout",
     "text": [
      "200\n"
     ]
    }
   ],
   "source": [
    "posSt = 0           #initial position of the found string\n",
    "posEnd = 0          #final position of the found string\n",
    "lastPosition = 0    #last position where a string was found\n",
    "entries = []        #list that carries the notes\n",
    "number = -1         #number of the video\n",
    "\n",
    "\n",
    "\n",
    "while(True):\n",
    "\n",
    "    #first we get the position of the video, then check for the stop condition, which is that the you didn't found another videoName string\n",
    "    posSt = fileStr.find(videoName,lastPosition)\n",
    "    if(posSt == -1): break\n",
    "    posSt +=len(videoName)  #fix the length to the start of the string that we want to extract (the actual name of the video, not the string that we matched)\n",
    "\n",
    "    posEnd = fileStr.find('<',posSt)\n",
    "    name = fileStr[posSt:posEnd]        #get the name on the relevant interval\n",
    "    lastPosition = posEnd\n",
    "\n",
    "    posSt = fileStr.find(videoDuration,lastPosition)+len(videoDuration) #repeat process for Duration, note that we don't check for the stop condition\n",
    "    posEnd = fileStr.find('<',posSt)\n",
    "    duration = fileStr[posSt:posEnd]\n",
    "    if(duration.find(':')==1): duration = '0'+duration  #add a cero at the  beggining for the duration that doesn't have it (excel purposes)\n",
    "    \n",
    "    lastPosition = posEnd\n",
    "\n",
    "    posSt = fileStr.find(videoTranscript,lastPosition)+len(videoTranscript)\n",
    "    posEnd = fileStr.find('<',posSt)\n",
    "    transcript = fileStr[posSt:posEnd]\n",
    "    lastPosition = posEnd\n",
    "\n",
    "    if(number<0):           #get the number of the video (is assumed that they come ordered)\n",
    "        number+=1\n",
    "    elif(entries[-1][\"name\"] != name):\n",
    "        number+=1\n",
    "\n",
    "    posUserNote = fileStr.find(videoUserNote,lastPosition)      #this is to check if the User Note exists, if it exists then you add it and update as usual\n",
    "    posNextNote = fileStr.find(videoName,lastPosition)          #if it doesn't exist then you just put '-1'\n",
    "                                                                #there is a special case because with the current logic if the last element has a User Note\n",
    "                                                                #I wasn't adding it, so I added this particular case\n",
    "\n",
    "    if((posUserNote < posNextNote) and (posUserNote!=-1)):\n",
    "        posSt = posUserNote+len(videoUserNote)\n",
    "        posEnd = fileStr.find('<',posSt)\n",
    "        userNote = fileStr[posSt:posEnd]\n",
    "        lastPosition = posEnd\n",
    "\n",
    "    elif((posNextNote==-1)and(posUserNote>0)):                  #Special Case. After you add, you break the cycle\n",
    "        posSt = posUserNote+len(videoUserNote)\n",
    "        posEnd = fileStr.find('<',posSt)\n",
    "        userNote = fileStr[posSt:posEnd]\n",
    "        note = {\n",
    "            \"videoNumber\": number,\n",
    "            \"duration\": duration,\n",
    "            \"name\": name,\n",
    "            \"transcript\": transcript,\n",
    "            \"userNote\": userNote\n",
    "        }   \n",
    "        entries.append(note)\n",
    "        break\n",
    "    else:\n",
    "        userNote = '-1'\n",
    "\n",
    "    note = {\n",
    "        \"videoNumber\": number,\n",
    "        \"duration\": duration,\n",
    "        \"name\": name,\n",
    "        \"transcript\": transcript,\n",
    "        \"userNote\": userNote\n",
    "    }   \n",
    "\n",
    "    entries.append(note)\n"
   ]
  },
  {
   "cell_type": "code",
   "execution_count": 9,
   "metadata": {},
   "outputs": [],
   "source": [
    "df = pd.DataFrame.from_dict(entries)            #export the data to a excel file to better read it\n",
    "df.to_excel('output.xlsx')"
   ]
  }
 ]
}